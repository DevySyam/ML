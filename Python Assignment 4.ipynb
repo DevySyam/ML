{
 "cells": [
  {
   "cell_type": "markdown",
   "metadata": {},
   "source": [
    "# Assignment 4"
   ]
  },
  {
   "cell_type": "markdown",
   "metadata": {},
   "source": [
    "Question No 1.1"
   ]
  },
  {
   "cell_type": "code",
   "execution_count": 42,
   "metadata": {},
   "outputs": [
    {
     "name": "stdout",
     "output_type": "stream",
     "text": [
      "Triangle sides : 5 3 4\n",
      "Triangle Area : 6.0\n"
     ]
    }
   ],
   "source": [
    "class Triangle:\n",
    "    def __init__(self,side1,side2,side3):\n",
    "        self.side1 = side1\n",
    "        self.side2 = side2\n",
    "        self.side3 = side3\n",
    "    def __str__(self):\n",
    "        return \"Triangle sides are: %d %d %d\" %(self.side1,self.side2,self.side3)\n",
    "    \n",
    "class Area(Triangle):\n",
    "    def __init__(self,*args):\n",
    "        super(Area,self).__init__(*args)\n",
    "        \n",
    "    def area(self):\n",
    "        s = (self.side1 + self.side2 + self.side3) / 2\n",
    "        a = (s * (s - self.side1) * (s - self.side2) * (s -self.side3)) ** 0.5\n",
    "        return a\n",
    "        \n",
    "    def __str__(self):\n",
    "        return \"Triangle Area\"\n",
    "        \n",
    "T1 = Area(5,3,4)\n",
    "print(\"Triangle sides :\",T1.side1,T1.side2,T1.side3)\n",
    "print(\"Triangle Area :\",T1.area())\n"
   ]
  },
  {
   "cell_type": "code",
   "execution_count": null,
   "metadata": {},
   "outputs": [],
   "source": []
  },
  {
   "cell_type": "markdown",
   "metadata": {},
   "source": [
    "Question No 1.2"
   ]
  },
  {
   "cell_type": "code",
   "execution_count": 68,
   "metadata": {},
   "outputs": [
    {
     "name": "stdout",
     "output_type": "stream",
     "text": [
      "Filtered words:  ['devykrishna', 'syamsivadas']\n"
     ]
    }
   ],
   "source": [
    "def filter_long_words(lst,n):\n",
    "    out = []\n",
    "    for words in lst:\n",
    "        length = len(words)\n",
    "        if length > n:\n",
    "            out.append(words)\n",
    "    return out\n",
    "\n",
    "lt = [\"test\",\"devykrishna\",\"syam\",\"syamsivadas\",\"kt\"]\n",
    "result = filter_long_words(lt,4)\n",
    "print(\"Filtered words: \",result)"
   ]
  },
  {
   "cell_type": "code",
   "execution_count": null,
   "metadata": {},
   "outputs": [],
   "source": []
  },
  {
   "cell_type": "markdown",
   "metadata": {},
   "source": [
    "Question No 2.1"
   ]
  },
  {
   "cell_type": "code",
   "execution_count": 70,
   "metadata": {},
   "outputs": [
    {
     "name": "stdout",
     "output_type": "stream",
     "text": [
      "Length of words : [4, 6, 6, 11]\n"
     ]
    }
   ],
   "source": [
    "def word_len(words):\n",
    "    out = []\n",
    "    for word in words:\n",
    "        out.append(len(word))\n",
    "    return out\n",
    "\n",
    "lst = [\"test\",\"theory\",\"Rishab\",\"Karan Arora\"]\n",
    "result = word_len(lst)\n",
    "print(\"Length of words :\",result)"
   ]
  },
  {
   "cell_type": "markdown",
   "metadata": {},
   "source": [
    "Question No 2.2"
   ]
  },
  {
   "cell_type": "code",
   "execution_count": 72,
   "metadata": {},
   "outputs": [
    {
     "name": "stdout",
     "output_type": "stream",
     "text": [
      "check vowels: \n"
     ]
    },
    {
     "data": {
      "text/plain": [
       "False"
      ]
     },
     "execution_count": 72,
     "metadata": {},
     "output_type": "execute_result"
    }
   ],
   "source": [
    "def check_vowel(c):\n",
    "    vowel = 'aeiou'\n",
    "    c = c.lower()\n",
    "    for i in vowel:\n",
    "        if c == i:\n",
    "            return True\n",
    "    else:\n",
    "        return False\n",
    "    \n",
    "print(\"check vowels: \")\n",
    "check_vowel('j')"
   ]
  },
  {
   "cell_type": "code",
   "execution_count": null,
   "metadata": {},
   "outputs": [],
   "source": []
  }
 ],
 "metadata": {
  "kernelspec": {
   "display_name": "Python 3",
   "language": "python",
   "name": "python3"
  },
  "language_info": {
   "codemirror_mode": {
    "name": "ipython",
    "version": 3
   },
   "file_extension": ".py",
   "mimetype": "text/x-python",
   "name": "python",
   "nbconvert_exporter": "python",
   "pygments_lexer": "ipython3",
   "version": "3.7.6"
  }
 },
 "nbformat": 4,
 "nbformat_minor": 4
}
